{
 "cells": [
  {
   "cell_type": "code",
   "execution_count": 1,
   "metadata": {},
   "outputs": [],
   "source": [
    "def xgb_c(tr,trl,tss,tsl):\n",
    "    import xgboost as xgb\n",
    "    import sklearn\n",
    "    from xgboost import plot_importance\n",
    "    from matplotlib import pyplot as plt\n",
    "    \n",
    "\n",
    "    \n",
    "    # 训练模型\n",
    "    model = xgb.XGBClassifier(max_depth=5, learning_rate=0.1, n_estimators=160, silent=True, objective='multi:softmax')\n",
    "    model.fit(tr, trl)\n",
    "\n",
    "    # 对测试集进行预测\n",
    "    ytr=model.predict(tr)\n",
    "    yts = model.predict(tss)\n",
    "\n",
    "    # 计算准确率\n",
    "    cntrr = 0\n",
    "    cntrw = 0\n",
    "    for i in range(len(trl)):\n",
    "        if ytr[i] == trl[i]:\n",
    "            cntrr += 1\n",
    "        else:\n",
    "            cntrw += 1\n",
    "            \n",
    "    cntsr = 0\n",
    "    cntsw = 0\n",
    "    for i in range(len(tsl)):\n",
    "        if yts[i] <= tsl[i]+1 and yts[i]>=tsl[i]-1:\n",
    "            cntsr += 1\n",
    "        else:\n",
    "            cntsw += 1\n",
    "\n",
    "    print(\"Accuracy for train: %.2f %% \" % (100 * cntrr / (cntrr + cntrw)))\n",
    "    print(\"Accuracy for test: %.2f %% \" % (100 * cntsr / (cntsr + cntsw)))\n",
    "\n",
    "    # 显示重要特征\n",
    "    plt.figure()\n",
    "    plot_importance(model)\n",
    "    plt.show()\n",
    "    \n",
    "    plt.figure()\n",
    "    plt.plot(tsl)\n",
    "    plt.plot(yts)\n",
    "    plt.show()"
   ]
  },
  {
   "cell_type": "code",
   "execution_count": null,
   "metadata": {},
   "outputs": [],
   "source": []
  }
 ],
 "metadata": {
  "kernelspec": {
   "display_name": "Python 3",
   "language": "python",
   "name": "python3"
  },
  "language_info": {
   "codemirror_mode": {
    "name": "ipython",
    "version": 3
   },
   "file_extension": ".py",
   "mimetype": "text/x-python",
   "name": "python",
   "nbconvert_exporter": "python",
   "pygments_lexer": "ipython3",
   "version": "3.6.5"
  }
 },
 "nbformat": 4,
 "nbformat_minor": 2
}
