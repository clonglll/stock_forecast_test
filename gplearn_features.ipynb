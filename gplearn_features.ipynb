{
 "cells": [
  {
   "cell_type": "code",
   "execution_count": 2,
   "metadata": {},
   "outputs": [],
   "source": [
    "def t2gp(tr,trl,ts,g,n):                               #tr训练集 trl训练集标签 ts测试集 g训练代数 n新生成的特征数\n",
    "    \n",
    "    import gplearn\n",
    "    from gplearn.genetic import SymbolicTransformer\n",
    "    function_set = ['add', 'sub', 'mul', 'div', 'log', 'sqrt', 'abs', 'neg', 'max', 'min']\n",
    "\n",
    "    gp = SymbolicTransformer(generations=g, population_size=1000,\n",
    "                             hall_of_fame=100, n_components=n,\n",
    "                             function_set=function_set,\n",
    "                             parsimony_coefficient=0.0005,\n",
    "                             max_samples=0.9, verbose=1,\n",
    "                             random_state=0, n_jobs=3)\n",
    "\n",
    "\n",
    "\n",
    "    gp.fit(tr,trl)\n",
    "    gp_tr=gp.transform(tr)\n",
    "    gp_ts=gp.transform(ts)\n",
    "    \n",
    "    return gp_tr,gp_ts\n"
   ]
  }
 ],
 "metadata": {
  "kernelspec": {
   "display_name": "Python 3",
   "language": "python",
   "name": "python3"
  },
  "language_info": {
   "codemirror_mode": {
    "name": "ipython",
    "version": 3
   },
   "file_extension": ".py",
   "mimetype": "text/x-python",
   "name": "python",
   "nbconvert_exporter": "python",
   "pygments_lexer": "ipython3",
   "version": "3.6.5"
  }
 },
 "nbformat": 4,
 "nbformat_minor": 2
}
